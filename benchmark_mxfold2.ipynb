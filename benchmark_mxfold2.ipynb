{
 "cells": [
  {
   "cell_type": "code",
   "execution_count": 8,
   "metadata": {},
   "outputs": [],
   "source": [
    "import pandas as pd"
   ]
  },
  {
   "cell_type": "code",
   "execution_count": 11,
   "metadata": {},
   "outputs": [],
   "source": [
    "def find_basepairs(s):\n",
    "    stack = []\n",
    "    result = []\n",
    "\n",
    "    for index, char in enumerate(s):\n",
    "        if char == '(':\n",
    "            stack.append(index)\n",
    "        elif char == ')':\n",
    "            # Если нашли закрывающую скобку, сопоставляем с последней открывающей\n",
    "            if stack:\n",
    "                open_index = stack.pop()\n",
    "                result.append((open_index, index))\n",
    "\n",
    "    return sorted(result)\n",
    "\n",
    "def find_knotpairs(s):\n",
    "    stack = []\n",
    "    #result = {}\n",
    "    result = []\n",
    "\n",
    "    for index, char in enumerate(s):\n",
    "        if char == '[':\n",
    "            # Запоминаем индекс открывающей скобки\n",
    "            stack.append(index)\n",
    "        elif char == ']':\n",
    "            # Если нашли закрывающую скобку, сопоставляем с последней открывающей\n",
    "            if stack:\n",
    "                open_index = stack.pop()\n",
    "                #result[open_index] = index\n",
    "                result.append((open_index, index))\n",
    "\n",
    "    return sorted(result)\n",
    "\n",
    "def find_otherpairs(s):\n",
    "    stack = []\n",
    "    #result = {}\n",
    "    result = []\n",
    "\n",
    "    for index, char in enumerate(s):\n",
    "        if char == '{':\n",
    "            # Запоминаем индекс открывающей скобки\n",
    "            stack.append(index)\n",
    "        elif char == '}':\n",
    "            # Если нашли закрывающую скобку, сопоставляем с последней открывающей\n",
    "            if stack:\n",
    "                open_index = stack.pop()\n",
    "                #result[open_index] = index\n",
    "                result.append((open_index, index))\n",
    "\n",
    "    return sorted(result)\n",
    "\n",
    "def find_pairs(s):\n",
    "    basepairs = find_basepairs(s)\n",
    "    knotpairs = find_knotpairs(s)\n",
    "    otherpairs = find_otherpairs(s)\n",
    "    pairs = basepairs + knotpairs + otherpairs\n",
    "    return sorted(pairs)\n",
    "\n",
    "\n",
    "\n",
    "# def possible_pairs(s):\n",
    "\n",
    "#     l = len(s)\n",
    "#     pairs = []\n",
    "#     for i in range(l):\n",
    "#         for j in range(i+1,l):\n",
    "#             pair = (i, j)\n",
    "#             pairs.append(pair)\n",
    "\n",
    "#     return pairs\n",
    "\n",
    "#faster benchmark which do not calculate accuracy and TN\n",
    "def Full_Benchmark_2Dv2(pred, ref, v=True):\n",
    "    \n",
    "    #Taminoto accuracy, adequate in case of g-quadruplexes predicted as '+' but not '[' and ']'\n",
    "    tcounter = 0\n",
    "    for i in range(len(ref)):\n",
    "        if ref[i] == pred[i]:\n",
    "            tcounter += 1\n",
    "\n",
    "        elif (ref[i] != '.') and pred[i] == '+':\n",
    "            tcounter += 1\n",
    "    taminoto = tcounter/len(ref)\n",
    "\n",
    "\n",
    "    #Binary classification metrics for all pairs\n",
    "    pred_pairs = find_pairs(pred)\n",
    "    ref_pairs = find_pairs(ref)\n",
    "    # poss_pairs = possible_pairs(ref)\n",
    "    \n",
    "    # ref_notpairs = [x for x in poss_pairs if x not in ref_pairs] \n",
    "    # pred_notpairs = [x for x in poss_pairs if x not in pred_pairs]\n",
    "    \n",
    "\n",
    "    TP = len(set(pred_pairs).intersection(ref_pairs))\n",
    "    FP = len(pred_pairs)-TP\n",
    "    # TN = len(set(pred_notpairs).intersection(ref_notpairs)) \n",
    "    # FN = len(pred_notpairs)-TN\n",
    "    FN = len(ref_pairs) -TP\n",
    "\n",
    "    if TP == 0:\n",
    "        TP = 0.0001\n",
    "\n",
    "    if FP == 0:\n",
    "        FP = 0.0001\n",
    "\n",
    "    # if TN == 0:\n",
    "    #     TN = 0.0001\n",
    "\n",
    "    if FN == 0:\n",
    "        FN = 0.0001\n",
    "    \n",
    "    # print(TP, TN, FP, FN, TP+FP+TN+FN)\n",
    "    # print(len(pred_pairs), len(pred_notpairs), len(ref_pairs), len(ref_notpairs), len(poss_pairs))\n",
    "\n",
    "    # Accuracy = (TP+TN)/(TP+TN+FP+FN)\n",
    "    Precision = TP/(TP+FP)\n",
    "    Recall = TP/(TP+FN)\n",
    "    F1_score = (2*Precision*Recall)/(Precision+Recall)\n",
    "\n",
    "    \n",
    "    if v:\n",
    "        print('Taminoto accuracy = ', round(taminoto, 3))\n",
    "        # print('Accuracy =', round(Accuracy, 3))\n",
    "        print('Precision =', round(Precision, 3))\n",
    "        print('Recall =', round(Recall, 3))\n",
    "        print('F1-score =', round(F1_score, 3))\n",
    "\n",
    "    else:\n",
    "        return taminoto, Precision, Recall, F1_score\n",
    "\n",
    "#Taminoto accuracy, adequate in case of g-quadruplexes predicted as '+' but not '[' and ']'\n",
    "def taminoto(pred, ref):\n",
    "    tcounter = 0\n",
    "    for i in range(len(ref)):\n",
    "        if ref[i] == pred[i]:\n",
    "            tcounter += 1\n",
    "\n",
    "        elif (ref[i] != '.') and pred[i] == '+':\n",
    "            tcounter += 1  \n",
    "\n",
    "    return tcounter/len(ref)\n",
    "\n",
    "\n",
    "def taminoto_accurate_percent(preds, refs, cutoff=0.85, v=True):\n",
    "    \n",
    "    acc_list = []\n",
    "    acc = 0\n",
    "    acc_counter = 0\n",
    "    for i in range(len(preds)):\n",
    "        acc = taminoto(preds[i], refs[i])\n",
    "        if acc >= cutoff:\n",
    "            acc_counter += 1\n",
    "        acc_list.append(acc)\n",
    "\n",
    "    if v:\n",
    "        print(f'% of Accurate structures (taminoto acc. >= {cutoff}) =', round(100*acc_counter/len(preds), 2))\n",
    "\n",
    "    else:\n",
    "        return acc_counter/len(preds), acc_list"
   ]
  },
  {
   "cell_type": "code",
   "execution_count": 16,
   "metadata": {},
   "outputs": [
    {
     "name": "stdout",
     "output_type": "stream",
     "text": [
      ">DS4440\n",
      "GGATGGATGTCTGAGCGGTTGAAAGAGTCGGTCTTGAAAACCGAAGTATTGATAGGAATACCGGGGGTTCGAATCCCTCTCCATCCG\n",
      "............................(((.........)))...................(.(((.......))).)........ (9.3)\n"
     ]
    }
   ],
   "source": [
    "!mxfold2 predict test.fa\n",
    "# >DS4440\n",
    "# GGAUGGAUGUCUGAGCGGUUGAAAGAGUCGGUCUUGAAAACCGAAGUAUUGAUAGGAAUACCGGGGGUUCGAAUCCCUCUCCAUCCG\n",
    "# (((((((........(((((..((((.....))))...)))))...................(((((.......)))))))))))). (24.8)"
   ]
  },
  {
   "cell_type": "code",
   "execution_count": 3,
   "metadata": {},
   "outputs": [],
   "source": [
    "!mxfold2 predict data.fasta > mxfold2.fasta"
   ]
  },
  {
   "cell_type": "code",
   "execution_count": 4,
   "metadata": {},
   "outputs": [
    {
     "data": {
      "text/plain": [
       "354"
      ]
     },
     "execution_count": 4,
     "metadata": {},
     "output_type": "execute_result"
    }
   ],
   "source": [
    "def fastaparser(filename):\n",
    "\n",
    "    with open(filename, 'r') as fasta:\n",
    "        lines = fasta.readlines()\n",
    "        preds = []\n",
    "        for i in range(2, len(lines), 3):\n",
    "            pred = lines[i].split()\n",
    "            preds.append(pred[0])\n",
    "\n",
    "    return preds\n",
    "\n",
    "mxfold_preds = fastaparser('mxfold2.fasta')\n",
    "len(mxfold_preds)"
   ]
  },
  {
   "cell_type": "code",
   "execution_count": 9,
   "metadata": {},
   "outputs": [],
   "source": [
    "db = pd.read_csv('data.csv')\n",
    "db['mxfold2'] = pd.Series(mxfold_preds)"
   ]
  },
  {
   "cell_type": "code",
   "execution_count": 12,
   "metadata": {},
   "outputs": [
    {
     "name": "stdout",
     "output_type": "stream",
     "text": [
      "Taminoto accuracy =  0.806\n",
      "Precision = 0.81\n",
      "Recall = 0.745\n",
      "F1-score = 0.776\n"
     ]
    }
   ],
   "source": [
    "#RNA+DNA\n",
    "pred = ''.join(list(db['mxfold2']))\n",
    "ref2d = ''.join(list(db['2D']))\n",
    "Full_Benchmark_2Dv2(pred, ref2d)"
   ]
  },
  {
   "cell_type": "code",
   "execution_count": 13,
   "metadata": {},
   "outputs": [],
   "source": [
    "rnadb = db[db['NAtype'] == 'RNA']\n",
    "dnadb = db[db['NAtype'] == 'DNA']"
   ]
  },
  {
   "cell_type": "code",
   "execution_count": 14,
   "metadata": {},
   "outputs": [
    {
     "name": "stdout",
     "output_type": "stream",
     "text": [
      "RNA\n",
      "Taminoto accuracy =  0.818\n",
      "Precision = 0.817\n",
      "Recall = 0.763\n",
      "F1-score = 0.789\n"
     ]
    }
   ],
   "source": [
    "print('RNA')\n",
    "pred = ''.join(list(rnadb['mxfold2']))\n",
    "ref2d = ''.join(list(rnadb['2D']))\n",
    "Full_Benchmark_2Dv2(pred, ref2d)"
   ]
  },
  {
   "cell_type": "code",
   "execution_count": 15,
   "metadata": {},
   "outputs": [
    {
     "name": "stdout",
     "output_type": "stream",
     "text": [
      "DNA\n",
      "Taminoto accuracy =  0.674\n",
      "Precision = 0.677\n",
      "Recall = 0.484\n",
      "F1-score = 0.564\n"
     ]
    }
   ],
   "source": [
    "print('DNA')\n",
    "pred = ''.join(list(dnadb['mxfold2']))\n",
    "ref2d = ''.join(list(dnadb['2D']))\n",
    "Full_Benchmark_2Dv2(pred, ref2d)"
   ]
  }
 ],
 "metadata": {
  "kernelspec": {
   "display_name": "mxfold_bench",
   "language": "python",
   "name": "python3"
  },
  "language_info": {
   "codemirror_mode": {
    "name": "ipython",
    "version": 3
   },
   "file_extension": ".py",
   "mimetype": "text/x-python",
   "name": "python",
   "nbconvert_exporter": "python",
   "pygments_lexer": "ipython3",
   "version": "3.9.20"
  }
 },
 "nbformat": 4,
 "nbformat_minor": 2
}
