{
 "cells": [
  {
   "cell_type": "markdown",
   "metadata": {},
   "source": [
    "<h1>Benchmark of some popular tools for Nucleic acids secondary structure prediction</h1>\n",
    "\n",
    "- RNAfold\n",
    "\n",
    "- IPknot\n",
    "\n"
   ]
  },
  {
   "cell_type": "markdown",
   "metadata": {},
   "source": [
    "<h3>Prerequisites</h3>"
   ]
  },
  {
   "cell_type": "code",
   "execution_count": 1,
   "metadata": {},
   "outputs": [],
   "source": [
    "import pandas as pd\n",
    "\n",
    "import time\n",
    "from selenium import webdriver\n",
    "from selenium.webdriver.common.by import By\n",
    "\n",
    "from bs4 import BeautifulSoup"
   ]
  },
  {
   "cell_type": "code",
   "execution_count": 2,
   "metadata": {},
   "outputs": [],
   "source": [
    "def find_basepairs(s):\n",
    "    stack = []\n",
    "    result = []\n",
    "\n",
    "    for index, char in enumerate(s):\n",
    "        if char == '(':\n",
    "            stack.append(index)\n",
    "        elif char == ')':\n",
    "            # Если нашли закрывающую скобку, сопоставляем с последней открывающей\n",
    "            if stack:\n",
    "                open_index = stack.pop()\n",
    "                result.append((open_index, index))\n",
    "\n",
    "    return sorted(result)\n",
    "\n",
    "def find_knotpairs(s):\n",
    "    stack = []\n",
    "    #result = {}\n",
    "    result = []\n",
    "\n",
    "    for index, char in enumerate(s):\n",
    "        if char == '[':\n",
    "            # Запоминаем индекс открывающей скобки\n",
    "            stack.append(index)\n",
    "        elif char == ']':\n",
    "            # Если нашли закрывающую скобку, сопоставляем с последней открывающей\n",
    "            if stack:\n",
    "                open_index = stack.pop()\n",
    "                #result[open_index] = index\n",
    "                result.append((open_index, index))\n",
    "\n",
    "    return sorted(result)\n",
    "\n",
    "def find_otherpairs(s):\n",
    "    stack = []\n",
    "    #result = {}\n",
    "    result = []\n",
    "\n",
    "    for index, char in enumerate(s):\n",
    "        if char == '{':\n",
    "            # Запоминаем индекс открывающей скобки\n",
    "            stack.append(index)\n",
    "        elif char == '}':\n",
    "            # Если нашли закрывающую скобку, сопоставляем с последней открывающей\n",
    "            if stack:\n",
    "                open_index = stack.pop()\n",
    "                #result[open_index] = index\n",
    "                result.append((open_index, index))\n",
    "\n",
    "    return sorted(result)\n",
    "\n",
    "def find_pairs(s):\n",
    "    basepairs = find_basepairs(s)\n",
    "    knotpairs = find_knotpairs(s)\n",
    "    otherpairs = find_otherpairs(s)\n",
    "    pairs = basepairs + knotpairs + otherpairs\n",
    "    return sorted(pairs)\n",
    "\n",
    "\n",
    "\n",
    "# def possible_pairs(s):\n",
    "\n",
    "#     l = len(s)\n",
    "#     pairs = []\n",
    "#     for i in range(l):\n",
    "#         for j in range(i+1,l):\n",
    "#             pair = (i, j)\n",
    "#             pairs.append(pair)\n",
    "\n",
    "#     return pairs\n",
    "\n",
    "#faster benchmark which do not calculate accuracy and TN\n",
    "def Full_Benchmark_2Dv2(pred, ref, v=True):\n",
    "    \n",
    "    #Taminoto accuracy, adequate in case of g-quadruplexes predicted as '+' but not '[' and ']'\n",
    "    tcounter = 0\n",
    "    for i in range(len(ref)):\n",
    "        if ref[i] == pred[i]:\n",
    "            tcounter += 1\n",
    "\n",
    "        elif (ref[i] != '.') and pred[i] == '+':\n",
    "            tcounter += 1\n",
    "    taminoto = tcounter/len(ref)\n",
    "\n",
    "\n",
    "    #Binary classification metrics for all pairs\n",
    "    pred_pairs = find_pairs(pred)\n",
    "    ref_pairs = find_pairs(ref)\n",
    "    # poss_pairs = possible_pairs(ref)\n",
    "    \n",
    "    # ref_notpairs = [x for x in poss_pairs if x not in ref_pairs] \n",
    "    # pred_notpairs = [x for x in poss_pairs if x not in pred_pairs]\n",
    "    \n",
    "\n",
    "    TP = len(set(pred_pairs).intersection(ref_pairs))\n",
    "    FP = len(pred_pairs)-TP\n",
    "    # TN = len(set(pred_notpairs).intersection(ref_notpairs)) \n",
    "    # FN = len(pred_notpairs)-TN\n",
    "    FN = len(ref_pairs) -TP\n",
    "\n",
    "    if TP == 0:\n",
    "        TP = 0.0001\n",
    "\n",
    "    if FP == 0:\n",
    "        FP = 0.0001\n",
    "\n",
    "    # if TN == 0:\n",
    "    #     TN = 0.0001\n",
    "\n",
    "    if FN == 0:\n",
    "        FN = 0.0001\n",
    "    \n",
    "    # print(TP, TN, FP, FN, TP+FP+TN+FN)\n",
    "    # print(len(pred_pairs), len(pred_notpairs), len(ref_pairs), len(ref_notpairs), len(poss_pairs))\n",
    "\n",
    "    # Accuracy = (TP+TN)/(TP+TN+FP+FN)\n",
    "    Precision = TP/(TP+FP)\n",
    "    Recall = TP/(TP+FN)\n",
    "    F1_score = (2*Precision*Recall)/(Precision+Recall)\n",
    "\n",
    "    \n",
    "    if v:\n",
    "        print('Taminoto accuracy = ', round(taminoto, 3))\n",
    "        # print('Accuracy =', round(Accuracy, 3))\n",
    "        print('Precision =', round(Precision, 3))\n",
    "        print('Recall =', round(Recall, 3))\n",
    "        print('F1-score =', round(F1_score, 3))\n",
    "\n",
    "    else:\n",
    "        return taminoto, Precision, Recall, F1_score\n",
    "\n",
    "#Taminoto accuracy, adequate in case of g-quadruplexes predicted as '+' but not '[' and ']'\n",
    "def taminoto(pred, ref):\n",
    "    tcounter = 0\n",
    "    for i in range(len(ref)):\n",
    "        if ref[i] == pred[i]:\n",
    "            tcounter += 1\n",
    "\n",
    "        elif (ref[i] != '.') and pred[i] == '+':\n",
    "            tcounter += 1  \n",
    "\n",
    "    return tcounter/len(ref)\n",
    "\n",
    "\n",
    "def taminoto_accurate_percent(preds, refs, cutoff=0.85, v=True):\n",
    "    \n",
    "    acc_list = []\n",
    "    acc = 0\n",
    "    acc_counter = 0\n",
    "    for i in range(len(preds)):\n",
    "        acc = taminoto(preds[i], refs[i])\n",
    "        if acc >= cutoff:\n",
    "            acc_counter += 1\n",
    "        acc_list.append(acc)\n",
    "\n",
    "    if v:\n",
    "        print(f'% of Accurate structures (taminoto acc. >= {cutoff}) =', round(100*acc_counter/len(preds), 2))\n",
    "\n",
    "    else:\n",
    "        return acc_counter/len(preds), acc_list"
   ]
  },
  {
   "cell_type": "code",
   "execution_count": 3,
   "metadata": {},
   "outputs": [],
   "source": [
    "aptabase = pd.read_csv('data.csv')\n",
    "def aptamers_to_fasta(db, filename):\n",
    "\n",
    "    with open(filename, 'w') as fasta:\n",
    "\n",
    "        ids = list(db['PDB'])\n",
    "        seqs = list(db['Sequence'])\n",
    "\n",
    "        for i in range(len(ids)):\n",
    "            print('>'+ids[i], file=fasta)\n",
    "            print(seqs[i], file=fasta)\n",
    "\n",
    "aptamers_to_fasta(aptabase, 'data.fasta')"
   ]
  },
  {
   "cell_type": "code",
   "execution_count": 6,
   "metadata": {},
   "outputs": [
    {
     "name": "stdout",
     "output_type": "stream",
     "text": [
      "\u001b[1;34mProcessing 1. input file \"data.fasta\"\u001b[0m\n",
      "\u001b[1;34mProcessing 1. input file \"data.fasta\"\u001b[0m\n"
     ]
    }
   ],
   "source": [
    "!rm *.ps\n",
    "!RNAfold -g -v data.fasta --outfile=rnafold_predictions.fasta\n",
    "!rm *.ps\n",
    "!RNAfold -g -v --noGU data.fasta --outfile=rnafold_predictions_nogu.fasta\n",
    "!rm *.ps"
   ]
  },
  {
   "cell_type": "code",
   "execution_count": null,
   "metadata": {},
   "outputs": [],
   "source": [
    "!rm *.ps"
   ]
  },
  {
   "cell_type": "code",
   "execution_count": 7,
   "metadata": {},
   "outputs": [
    {
     "data": {
      "text/plain": [
       "1416"
      ]
     },
     "execution_count": 7,
     "metadata": {},
     "output_type": "execute_result"
    }
   ],
   "source": [
    "def fastaparser(filename):\n",
    "\n",
    "    with open(filename, 'r') as fasta:\n",
    "        lines = fasta.readlines()\n",
    "        preds = []\n",
    "        for i in range(2, len(lines), 3):\n",
    "            pred = lines[i].split()\n",
    "            preds.append(pred[0])\n",
    "\n",
    "    return preds\n",
    "\n",
    "rnafold_preds = fastaparser('rnafold_predictions.fasta')\n",
    "len(rnafold_preds)"
   ]
  },
  {
   "cell_type": "code",
   "execution_count": 8,
   "metadata": {},
   "outputs": [],
   "source": [
    "aptabase['RNAfold_2D'] = pd.Series(rnafold_preds)"
   ]
  },
  {
   "cell_type": "code",
   "execution_count": 9,
   "metadata": {},
   "outputs": [
    {
     "data": {
      "text/html": [
       "<div>\n",
       "<style scoped>\n",
       "    .dataframe tbody tr th:only-of-type {\n",
       "        vertical-align: middle;\n",
       "    }\n",
       "\n",
       "    .dataframe tbody tr th {\n",
       "        vertical-align: top;\n",
       "    }\n",
       "\n",
       "    .dataframe thead th {\n",
       "        text-align: right;\n",
       "    }\n",
       "</style>\n",
       "<table border=\"1\" class=\"dataframe\">\n",
       "  <thead>\n",
       "    <tr style=\"text-align: right;\">\n",
       "      <th></th>\n",
       "      <th>PDB</th>\n",
       "      <th>Strand</th>\n",
       "      <th>Sequence</th>\n",
       "      <th>2D</th>\n",
       "      <th>NAtype</th>\n",
       "      <th>RNAfold_2D</th>\n",
       "    </tr>\n",
       "  </thead>\n",
       "  <tbody>\n",
       "    <tr>\n",
       "      <th>0</th>\n",
       "      <td>148D</td>\n",
       "      <td>strand_A</td>\n",
       "      <td>GGTTGGTGTGGTTGG</td>\n",
       "      <td>...(......)....</td>\n",
       "      <td>DNA</td>\n",
       "      <td>...............</td>\n",
       "    </tr>\n",
       "    <tr>\n",
       "      <th>1</th>\n",
       "      <td>1AW4</td>\n",
       "      <td>strand_A</td>\n",
       "      <td>ACCTGGGGGAGTATTGCGGAGGAAGGT</td>\n",
       "      <td>((((......((...))......))))</td>\n",
       "      <td>DNA</td>\n",
       "      <td>((((......((...))......))))</td>\n",
       "    </tr>\n",
       "    <tr>\n",
       "      <th>2</th>\n",
       "      <td>1DB6</td>\n",
       "      <td>strand_A</td>\n",
       "      <td>CGACCAACGTGTCGCCTGGTCG</td>\n",
       "      <td>((((((..(......)))))))</td>\n",
       "      <td>DNA</td>\n",
       "      <td>((((((..........))))))</td>\n",
       "    </tr>\n",
       "    <tr>\n",
       "      <th>3</th>\n",
       "      <td>2ARG</td>\n",
       "      <td>strand_A</td>\n",
       "      <td>TGACCAGGGCAAACGGTAGGTGAGTGGTCA</td>\n",
       "      <td>((((((...[..((]....))...))))))</td>\n",
       "      <td>DNA</td>\n",
       "      <td>((((((......((.....))...))))))</td>\n",
       "    </tr>\n",
       "    <tr>\n",
       "      <th>4</th>\n",
       "      <td>2L5K</td>\n",
       "      <td>strand_A</td>\n",
       "      <td>GCAGTTGATCCTTTGGATACCCTG</td>\n",
       "      <td>.(((...((((...))))...)))</td>\n",
       "      <td>DNA</td>\n",
       "      <td>.(((...((((...))))...)))</td>\n",
       "    </tr>\n",
       "    <tr>\n",
       "      <th>...</th>\n",
       "      <td>...</td>\n",
       "      <td>...</td>\n",
       "      <td>...</td>\n",
       "      <td>...</td>\n",
       "      <td>...</td>\n",
       "      <td>...</td>\n",
       "    </tr>\n",
       "    <tr>\n",
       "      <th>349</th>\n",
       "      <td>6P2H</td>\n",
       "      <td>strand_A</td>\n",
       "      <td>GGGUGUAAUCUCCAAAAUAUGGUUGGGGAGCCUCCACCAGUGAACC...</td>\n",
       "      <td>((((((..(((((((.....[[)))))))......).((((((.]]...</td>\n",
       "      <td>RNA</td>\n",
       "      <td>(((((...(((((((.......)))))))........((((((......</td>\n",
       "    </tr>\n",
       "    <tr>\n",
       "      <th>350</th>\n",
       "      <td>5FKE</td>\n",
       "      <td>strand_A</td>\n",
       "      <td>GGCUUAUCAAGAGAGGGUGAGCGACUGGCGCGAAGAGCCCCGGCAA...</td>\n",
       "      <td>((((((((....(.((((..(((.[.[[))).....)))))(((.....</td>\n",
       "      <td>RNA</td>\n",
       "      <td>((((((((......((((..(((.....))).....)))).((((....</td>\n",
       "    </tr>\n",
       "    <tr>\n",
       "      <th>351</th>\n",
       "      <td>2TOB</td>\n",
       "      <td>strand_A</td>\n",
       "      <td>ACUUGGUUUAGGUAAUGAGU</td>\n",
       "      <td>((((..(......)..))))</td>\n",
       "      <td>RNA</td>\n",
       "      <td>(((((...))))).......</td>\n",
       "    </tr>\n",
       "    <tr>\n",
       "      <th>352</th>\n",
       "      <td>1U1Y</td>\n",
       "      <td>strand_R</td>\n",
       "      <td>CCGGGGGAUCACCACGG</td>\n",
       "      <td>(((..((....)).)))</td>\n",
       "      <td>RNA</td>\n",
       "      <td>(((((......)).)))</td>\n",
       "    </tr>\n",
       "    <tr>\n",
       "      <th>353</th>\n",
       "      <td>4FEO</td>\n",
       "      <td>strand_B</td>\n",
       "      <td>GGACAUAUAAACGCGUGGAUAUGGCACGCGAGUUUCUACCGGGCAC...</td>\n",
       "      <td>((((((((...((((((.....[[)))))).[.....)]((((((]...</td>\n",
       "      <td>RNA</td>\n",
       "      <td>(((((((....((((((.......)))))).........((((((....</td>\n",
       "    </tr>\n",
       "  </tbody>\n",
       "</table>\n",
       "<p>354 rows × 6 columns</p>\n",
       "</div>"
      ],
      "text/plain": [
       "      PDB    Strand                                           Sequence  \\\n",
       "0    148D  strand_A                                    GGTTGGTGTGGTTGG   \n",
       "1    1AW4  strand_A                        ACCTGGGGGAGTATTGCGGAGGAAGGT   \n",
       "2    1DB6  strand_A                             CGACCAACGTGTCGCCTGGTCG   \n",
       "3    2ARG  strand_A                     TGACCAGGGCAAACGGTAGGTGAGTGGTCA   \n",
       "4    2L5K  strand_A                           GCAGTTGATCCTTTGGATACCCTG   \n",
       "..    ...       ...                                                ...   \n",
       "349  6P2H  strand_A  GGGUGUAAUCUCCAAAAUAUGGUUGGGGAGCCUCCACCAGUGAACC...   \n",
       "350  5FKE  strand_A  GGCUUAUCAAGAGAGGGUGAGCGACUGGCGCGAAGAGCCCCGGCAA...   \n",
       "351  2TOB  strand_A                               ACUUGGUUUAGGUAAUGAGU   \n",
       "352  1U1Y  strand_R                                  CCGGGGGAUCACCACGG   \n",
       "353  4FEO  strand_B  GGACAUAUAAACGCGUGGAUAUGGCACGCGAGUUUCUACCGGGCAC...   \n",
       "\n",
       "                                                    2D NAtype  \\\n",
       "0                                      ...(......)....    DNA   \n",
       "1                          ((((......((...))......))))    DNA   \n",
       "2                               ((((((..(......)))))))    DNA   \n",
       "3                       ((((((...[..((]....))...))))))    DNA   \n",
       "4                             .(((...((((...))))...)))    DNA   \n",
       "..                                                 ...    ...   \n",
       "349  ((((((..(((((((.....[[)))))))......).((((((.]]...    RNA   \n",
       "350  ((((((((....(.((((..(((.[.[[))).....)))))(((.....    RNA   \n",
       "351                               ((((..(......)..))))    RNA   \n",
       "352                                  (((..((....)).)))    RNA   \n",
       "353  ((((((((...((((((.....[[)))))).[.....)]((((((]...    RNA   \n",
       "\n",
       "                                            RNAfold_2D  \n",
       "0                                      ...............  \n",
       "1                          ((((......((...))......))))  \n",
       "2                               ((((((..........))))))  \n",
       "3                       ((((((......((.....))...))))))  \n",
       "4                             .(((...((((...))))...)))  \n",
       "..                                                 ...  \n",
       "349  (((((...(((((((.......)))))))........((((((......  \n",
       "350  ((((((((......((((..(((.....))).....)))).((((....  \n",
       "351                               (((((...))))).......  \n",
       "352                                  (((((......)).)))  \n",
       "353  (((((((....((((((.......)))))).........((((((....  \n",
       "\n",
       "[354 rows x 6 columns]"
      ]
     },
     "execution_count": 9,
     "metadata": {},
     "output_type": "execute_result"
    }
   ],
   "source": [
    "aptabase"
   ]
  },
  {
   "cell_type": "code",
   "execution_count": null,
   "metadata": {},
   "outputs": [],
   "source": [
    "#aptabase.to_csv('rnafold.csv')"
   ]
  },
  {
   "cell_type": "code",
   "execution_count": 10,
   "metadata": {},
   "outputs": [
    {
     "name": "stdout",
     "output_type": "stream",
     "text": [
      "Taminoto accuracy =  0.775\n",
      "Precision = 0.719\n",
      "Recall = 0.714\n",
      "F1-score = 0.716\n"
     ]
    }
   ],
   "source": [
    "#RNA+DNA\n",
    "rnafold_pred = ''.join(list(aptabase['RNAfold_2D']))\n",
    "ref2d = ''.join(list(aptabase['2D']))\n",
    "Full_Benchmark_2Dv2(rnafold_pred, ref2d)"
   ]
  },
  {
   "cell_type": "code",
   "execution_count": 11,
   "metadata": {},
   "outputs": [
    {
     "name": "stdout",
     "output_type": "stream",
     "text": [
      "Taminoto accuracy =  0.782\n",
      "Precision = 0.731\n",
      "Recall = 0.719\n",
      "F1-score = 0.725\n"
     ]
    }
   ],
   "source": [
    "#RNA\n",
    "aptabase_rna = aptabase[aptabase['NAtype'] == 'RNA']\n",
    "rnafold_pred_rna = ''.join(list(aptabase_rna['RNAfold_2D']))\n",
    "ref2d_rna = ''.join(list(aptabase_rna['2D']))\n",
    "Full_Benchmark_2Dv2(rnafold_pred_rna, ref2d_rna)"
   ]
  },
  {
   "cell_type": "code",
   "execution_count": null,
   "metadata": {},
   "outputs": [
    {
     "name": "stdout",
     "output_type": "stream",
     "text": [
      "Taminoto accuracy =  0.695\n",
      "Precision = 0.567\n",
      "Recall = 0.654\n",
      "F1-score = 0.607\n"
     ]
    }
   ],
   "source": [
    "#DNA\n",
    "aptabase_dna = aptabase[aptabase['NAtype'] == 'DNA']\n",
    "rnafold_pred_dna = ''.join(list(aptabase_dna['RNAfold_2D']))\n",
    "ref2d_dna = ''.join(list(aptabase_dna['2D']))\n",
    "Full_Benchmark_2Dv2(rnafold_pred_dna, ref2d_dna)"
   ]
  },
  {
   "cell_type": "code",
   "execution_count": 13,
   "metadata": {},
   "outputs": [],
   "source": [
    "rnafold_preds_nogu = fastaparser('rnafold_predictions_nogu.fasta')\n",
    "aptabase['RNAfold_noGU'] = pd.Series(rnafold_preds_nogu)"
   ]
  },
  {
   "cell_type": "code",
   "execution_count": 14,
   "metadata": {},
   "outputs": [
    {
     "name": "stdout",
     "output_type": "stream",
     "text": [
      "Taminoto accuracy =  0.743\n",
      "Precision = 0.7\n",
      "Recall = 0.628\n",
      "F1-score = 0.662\n"
     ]
    }
   ],
   "source": [
    "#RNA+DNA\n",
    "rnafold_pred = ''.join(list(aptabase['RNAfold_noGU']))\n",
    "ref2d = ''.join(list(aptabase['2D']))\n",
    "Full_Benchmark_2Dv2(rnafold_pred, ref2d)"
   ]
  },
  {
   "cell_type": "code",
   "execution_count": 15,
   "metadata": {},
   "outputs": [
    {
     "name": "stdout",
     "output_type": "stream",
     "text": [
      "Taminoto accuracy =  0.742\n",
      "Precision = 0.697\n",
      "Recall = 0.62\n",
      "F1-score = 0.657\n"
     ]
    }
   ],
   "source": [
    "#RNA\n",
    "aptabase_rna = aptabase[aptabase['NAtype'] == 'RNA']\n",
    "rnafold_pred_rna = ''.join(list(aptabase_rna['RNAfold_noGU']))\n",
    "ref2d_rna = ''.join(list(aptabase_rna['2D']))\n",
    "Full_Benchmark_2Dv2(rnafold_pred_rna, ref2d_rna)"
   ]
  },
  {
   "cell_type": "code",
   "execution_count": 16,
   "metadata": {},
   "outputs": [
    {
     "name": "stdout",
     "output_type": "stream",
     "text": [
      "Taminoto accuracy =  0.763\n",
      "Precision = 0.734\n",
      "Recall = 0.728\n",
      "F1-score = 0.731\n"
     ]
    }
   ],
   "source": [
    "#DNA\n",
    "aptabase_dna = aptabase[aptabase['NAtype'] == 'DNA']\n",
    "rnafold_pred_dna = ''.join(list(aptabase_dna['RNAfold_noGU']))\n",
    "ref2d_dna = ''.join(list(aptabase_dna['2D']))\n",
    "Full_Benchmark_2Dv2(rnafold_pred_dna, ref2d_dna)"
   ]
  },
  {
   "cell_type": "code",
   "execution_count": 51,
   "metadata": {},
   "outputs": [],
   "source": [
    "def ipknoter_v1(seq):\n",
    "\n",
    "    driver = webdriver.Chrome()\n",
    "\n",
    "\n",
    "    s = seq.replace('T', 'U')\n",
    "\n",
    "    # Open web-server\n",
    "    driver.get('http://ws.sato-lab.org/rtips/ipknot++/')  # Replace with your target URL\n",
    "    \n",
    "    # type sequence\n",
    "    input_seq = driver.find_element(By.NAME, \"seq\")\n",
    "    input_seq.send_keys(s)\n",
    "\n",
    "    #settings\n",
    "    # select_level = driver.find_element(By.NAME, 'level')\n",
    "    # select_level.selectByValue('3')\n",
    "\n",
    "    # select_engine = driver.find_element(By.NAME, 'model')\n",
    "    # select_engine.select_by_value('NUPACK')\n",
    "\n",
    "    select_level3 = driver.find_element(By.XPATH, '/html/body/div/form/ul/li[1]/select/option[3]')\n",
    "    select_level3.click()\n",
    "\n",
    "    select_nupack = driver.find_element(By.XPATH, '/html/body/div/form/ul/li[2]/select/option[6]')\n",
    "    select_nupack.click()\n",
    "\n",
    "    #click pred button\n",
    "    predbutton = driver.find_element(By.XPATH, \"/html/body/div/form/p[3]/input[1]\")\n",
    "    predbutton.click()\n",
    "\n",
    "    # Wait for the page to load \n",
    "    time.sleep(5)\n",
    "\n",
    "    \n",
    "    # Get the resulting HTML\n",
    "    result_html = driver.page_source\n",
    "    driver.quit()\n",
    "\n",
    "   \n",
    "    \n",
    "    #we need text from xpath /html/body/div/div[2]/pre[3]\n",
    "    # Создаём объект BeautifulSoup\n",
    "    soup = BeautifulSoup(result_html, 'html.parser')\n",
    "\n",
    "    # CSS-селектор, соответствующий вашему XPath\n",
    "    css_selector = 'body > div > div:nth-of-type(2) > pre:nth-of-type(3)'\n",
    "\n",
    "    # Находим элемент\n",
    "    element = soup.select_one(css_selector)\n",
    "    text = element.get_text()\n",
    "    return text.split()[1]"
   ]
  },
  {
   "cell_type": "code",
   "execution_count": 53,
   "metadata": {},
   "outputs": [
    {
     "name": "stdout",
     "output_type": "stream",
     "text": [
      "237\n",
      "1 - 2 - 3 - 4 - 5 - 6 - 7 - 8 - 9 - 10 - 11 - 12 - 13 - 14 - 15 - 16 - 17 - 18 - 19 - 20 - 21 - 22 - 23 - 24 - 25 - 26 - 27 - 28 - 29 - 30 - 31 - 32 - 33 - 34 - 35 - 36 - 37 - 38 - 39 - 40 - 41 - 42 - 43 - 44 - 45 - 46 - 47 - 48 - 49 - 50 - 51 - 52 - 53 - 54 - 55 - 56 - 57 - 58 - 59 - 60 - 61 - 62 - 63 - 64 - 65 - 66 - 67 - 68 - 69 - 70 - 71 - 72 - 73 - 74 - 75 - 76 - 77 - 78 - 79 - 80 - 81 - 82 - 83 - 84 - 85 - 86 - 87 - 88 - 89 - 90 - 91 - 92 - 93 - 94 - 95 - 96 - 97 - 98 - 99 - 100 - 101 - 102 - 103 - 104 - 105 - 106 - 107 - 108 - 109 - 110 - 111 - 112 - 113 - 114 - 115 - 116 - 117 - 118 - 119 - 120 - 121 - 122 - 123 - 124 - 125 - 126 - 127 - 128 - 129 - 130 - 131 - 132 - 133 - 134 - 135 - 136 - 137 - 138 - 139 - 140 - 141 - 142 - 143 - 144 - 145 - 146 - 147 - 148 - 149 - 150 - 151 - 152 - 153 - 154 - 155 - 156 - 157 - 158 - 159 - 160 - 161 - 162 - 163 - 164 - 165 - 166 - 167 - 168 - 169 - 170 - 171 - 172 - 173 - 174 - 175 - 176 - 177 - 178 - 179 - 180 - 181 - 182 - 183 - 184 - 185 - 186 - 187 - 188 - 189 - 190 - 191 - 192 - 193 - 194 - 195 - 196 - 197 - 198 - 199 - 200 - 201 - 202 - 203 - 204 - 205 - 206 - 207 - 208 - 209 - 210 - 211 - 212 - 213 - 214 - 215 - 216 - 217 - 218 - 219 - 220 - 221 - 222 - 223 - 224 - 225 - 226 - 227 - 228 - 229 - 230 - 231 - 232 - 233 - 234 - 235 - 236 - 237 - "
     ]
    }
   ],
   "source": [
    "#ipknot most accurate (and computational-costly) parameteres - level3, nupack model\n",
    "#it has limitation - length of one sequence no more than 80 nt\n",
    "aptabase_ipk = aptabase[aptabase['Sequence'].apply(lambda x: len(x)) <= 80]\n",
    "\n",
    "print(len(aptabase_ipk))\n",
    "seqs = list(aptabase_ipk['Sequence'])\n",
    "ipknotv1_preds = []\n",
    "for seq in seqs:\n",
    "    ipknotv1_preds.append(ipknoter_v1(seq))\n",
    "    print(len(ipknotv1_preds), '-', end=' ')"
   ]
  },
  {
   "cell_type": "code",
   "execution_count": null,
   "metadata": {},
   "outputs": [
    {
     "name": "stderr",
     "output_type": "stream",
     "text": [
      "/tmp/ipykernel_226340/649737437.py:1: SettingWithCopyWarning: \n",
      "A value is trying to be set on a copy of a slice from a DataFrame.\n",
      "Try using .loc[row_indexer,col_indexer] = value instead\n",
      "\n",
      "See the caveats in the documentation: https://pandas.pydata.org/pandas-docs/stable/user_guide/indexing.html#returning-a-view-versus-a-copy\n",
      "  aptabase_ipk['ipknotv1'] = pd.Series(ipknotv1_preds)\n"
     ]
    }
   ],
   "source": [
    "aptabase_ipk['ipknotv1'] = pd.Series(ipknotv1_preds)\n",
    "aptabase_ipk.to_csv('ipknotv1.csv')"
   ]
  },
  {
   "cell_type": "code",
   "execution_count": 67,
   "metadata": {},
   "outputs": [
    {
     "data": {
      "text/html": [
       "<div>\n",
       "<style scoped>\n",
       "    .dataframe tbody tr th:only-of-type {\n",
       "        vertical-align: middle;\n",
       "    }\n",
       "\n",
       "    .dataframe tbody tr th {\n",
       "        vertical-align: top;\n",
       "    }\n",
       "\n",
       "    .dataframe thead th {\n",
       "        text-align: right;\n",
       "    }\n",
       "</style>\n",
       "<table border=\"1\" class=\"dataframe\">\n",
       "  <thead>\n",
       "    <tr style=\"text-align: right;\">\n",
       "      <th></th>\n",
       "      <th>PDB</th>\n",
       "      <th>Strand</th>\n",
       "      <th>Sequence</th>\n",
       "      <th>2D</th>\n",
       "      <th>NAtype</th>\n",
       "      <th>RNAfold_2D</th>\n",
       "      <th>ipknotv1</th>\n",
       "    </tr>\n",
       "  </thead>\n",
       "  <tbody>\n",
       "    <tr>\n",
       "      <th>0</th>\n",
       "      <td>148D</td>\n",
       "      <td>strand_A</td>\n",
       "      <td>GGTTGGTGTGGTTGG</td>\n",
       "      <td>...(......)....</td>\n",
       "      <td>DNA</td>\n",
       "      <td>...............</td>\n",
       "      <td>...............</td>\n",
       "    </tr>\n",
       "    <tr>\n",
       "      <th>1</th>\n",
       "      <td>1AW4</td>\n",
       "      <td>strand_A</td>\n",
       "      <td>ACCTGGGGGAGTATTGCGGAGGAAGGT</td>\n",
       "      <td>((((......((...))......))))</td>\n",
       "      <td>DNA</td>\n",
       "      <td>((((......((...))......))))</td>\n",
       "      <td>((((...................))))</td>\n",
       "    </tr>\n",
       "    <tr>\n",
       "      <th>2</th>\n",
       "      <td>1DB6</td>\n",
       "      <td>strand_A</td>\n",
       "      <td>CGACCAACGTGTCGCCTGGTCG</td>\n",
       "      <td>((((((..(......)))))))</td>\n",
       "      <td>DNA</td>\n",
       "      <td>((((((..........))))))</td>\n",
       "      <td>((((((..........))))))</td>\n",
       "    </tr>\n",
       "    <tr>\n",
       "      <th>3</th>\n",
       "      <td>2ARG</td>\n",
       "      <td>strand_A</td>\n",
       "      <td>TGACCAGGGCAAACGGTAGGTGAGTGGTCA</td>\n",
       "      <td>((((((...[..((]....))...))))))</td>\n",
       "      <td>DNA</td>\n",
       "      <td>((((((......((.....))...))))))</td>\n",
       "      <td>((((((..((..[[.))..]]...))))))</td>\n",
       "    </tr>\n",
       "    <tr>\n",
       "      <th>4</th>\n",
       "      <td>2L5K</td>\n",
       "      <td>strand_A</td>\n",
       "      <td>GCAGTTGATCCTTTGGATACCCTG</td>\n",
       "      <td>.(((...((((...))))...)))</td>\n",
       "      <td>DNA</td>\n",
       "      <td>.(((...((((...))))...)))</td>\n",
       "      <td>.(((...((((...))))...)))</td>\n",
       "    </tr>\n",
       "    <tr>\n",
       "      <th>...</th>\n",
       "      <td>...</td>\n",
       "      <td>...</td>\n",
       "      <td>...</td>\n",
       "      <td>...</td>\n",
       "      <td>...</td>\n",
       "      <td>...</td>\n",
       "      <td>...</td>\n",
       "    </tr>\n",
       "    <tr>\n",
       "      <th>232</th>\n",
       "      <td>9BUN</td>\n",
       "      <td>strand_A</td>\n",
       "      <td>GGACUCGGAAACGUGAAGGAGAGGCGCAAGGUUAACCGCCUCAGUCCA</td>\n",
       "      <td>(((((((....))([...[)((((((]........]))))))))))).</td>\n",
       "      <td>RNA</td>\n",
       "      <td>(((((((....)).......((((((..........))))))))))).</td>\n",
       "      <td>NaN</td>\n",
       "    </tr>\n",
       "    <tr>\n",
       "      <th>233</th>\n",
       "      <td>6P2H</td>\n",
       "      <td>strand_A</td>\n",
       "      <td>GGGUGUAAUCUCCAAAAUAUGGUUGGGGAGCCUCCACCAGUGAACC...</td>\n",
       "      <td>((((((..(((((((.....[[)))))))......).((((((.]]...</td>\n",
       "      <td>RNA</td>\n",
       "      <td>(((((...(((((((.......)))))))........((((((......</td>\n",
       "      <td>NaN</td>\n",
       "    </tr>\n",
       "    <tr>\n",
       "      <th>234</th>\n",
       "      <td>2TOB</td>\n",
       "      <td>strand_A</td>\n",
       "      <td>ACUUGGUUUAGGUAAUGAGU</td>\n",
       "      <td>((((..(......)..))))</td>\n",
       "      <td>RNA</td>\n",
       "      <td>(((((...))))).......</td>\n",
       "      <td>NaN</td>\n",
       "    </tr>\n",
       "    <tr>\n",
       "      <th>235</th>\n",
       "      <td>1U1Y</td>\n",
       "      <td>strand_R</td>\n",
       "      <td>CCGGGGGAUCACCACGG</td>\n",
       "      <td>(((..((....)).)))</td>\n",
       "      <td>RNA</td>\n",
       "      <td>(((((......)).)))</td>\n",
       "      <td>NaN</td>\n",
       "    </tr>\n",
       "    <tr>\n",
       "      <th>236</th>\n",
       "      <td>4FEO</td>\n",
       "      <td>strand_B</td>\n",
       "      <td>GGACAUAUAAACGCGUGGAUAUGGCACGCGAGUUUCUACCGGGCAC...</td>\n",
       "      <td>((((((((...((((((.....[[)))))).[.....)]((((((]...</td>\n",
       "      <td>RNA</td>\n",
       "      <td>(((((((....((((((.......)))))).........((((((....</td>\n",
       "      <td>NaN</td>\n",
       "    </tr>\n",
       "  </tbody>\n",
       "</table>\n",
       "<p>237 rows × 7 columns</p>\n",
       "</div>"
      ],
      "text/plain": [
       "      PDB    Strand                                           Sequence  \\\n",
       "0    148D  strand_A                                    GGTTGGTGTGGTTGG   \n",
       "1    1AW4  strand_A                        ACCTGGGGGAGTATTGCGGAGGAAGGT   \n",
       "2    1DB6  strand_A                             CGACCAACGTGTCGCCTGGTCG   \n",
       "3    2ARG  strand_A                     TGACCAGGGCAAACGGTAGGTGAGTGGTCA   \n",
       "4    2L5K  strand_A                           GCAGTTGATCCTTTGGATACCCTG   \n",
       "..    ...       ...                                                ...   \n",
       "232  9BUN  strand_A   GGACUCGGAAACGUGAAGGAGAGGCGCAAGGUUAACCGCCUCAGUCCA   \n",
       "233  6P2H  strand_A  GGGUGUAAUCUCCAAAAUAUGGUUGGGGAGCCUCCACCAGUGAACC...   \n",
       "234  2TOB  strand_A                               ACUUGGUUUAGGUAAUGAGU   \n",
       "235  1U1Y  strand_R                                  CCGGGGGAUCACCACGG   \n",
       "236  4FEO  strand_B  GGACAUAUAAACGCGUGGAUAUGGCACGCGAGUUUCUACCGGGCAC...   \n",
       "\n",
       "                                                    2D NAtype  \\\n",
       "0                                      ...(......)....    DNA   \n",
       "1                          ((((......((...))......))))    DNA   \n",
       "2                               ((((((..(......)))))))    DNA   \n",
       "3                       ((((((...[..((]....))...))))))    DNA   \n",
       "4                             .(((...((((...))))...)))    DNA   \n",
       "..                                                 ...    ...   \n",
       "232   (((((((....))([...[)((((((]........]))))))))))).    RNA   \n",
       "233  ((((((..(((((((.....[[)))))))......).((((((.]]...    RNA   \n",
       "234                               ((((..(......)..))))    RNA   \n",
       "235                                  (((..((....)).)))    RNA   \n",
       "236  ((((((((...((((((.....[[)))))).[.....)]((((((]...    RNA   \n",
       "\n",
       "                                            RNAfold_2D  \\\n",
       "0                                      ...............   \n",
       "1                          ((((......((...))......))))   \n",
       "2                               ((((((..........))))))   \n",
       "3                       ((((((......((.....))...))))))   \n",
       "4                             .(((...((((...))))...)))   \n",
       "..                                                 ...   \n",
       "232   (((((((....)).......((((((..........))))))))))).   \n",
       "233  (((((...(((((((.......)))))))........((((((......   \n",
       "234                               (((((...))))).......   \n",
       "235                                  (((((......)).)))   \n",
       "236  (((((((....((((((.......)))))).........((((((....   \n",
       "\n",
       "                           ipknotv1  \n",
       "0                   ...............  \n",
       "1       ((((...................))))  \n",
       "2            ((((((..........))))))  \n",
       "3    ((((((..((..[[.))..]]...))))))  \n",
       "4          .(((...((((...))))...)))  \n",
       "..                              ...  \n",
       "232                             NaN  \n",
       "233                             NaN  \n",
       "234                             NaN  \n",
       "235                             NaN  \n",
       "236                             NaN  \n",
       "\n",
       "[237 rows x 7 columns]"
      ]
     },
     "execution_count": 67,
     "metadata": {},
     "output_type": "execute_result"
    }
   ],
   "source": [
    "aptabase_ipk = pd.read_csv('ipknotv1.csv').drop('Unnamed: 0', axis=1)\n",
    "aptabase_ipk"
   ]
  },
  {
   "cell_type": "code",
   "execution_count": 74,
   "metadata": {},
   "outputs": [
    {
     "name": "stdout",
     "output_type": "stream",
     "text": [
      "Taminoto accuracy =  0.674\n",
      "Precision = 0.378\n",
      "Recall = 0.581\n",
      "F1-score = 0.458\n"
     ]
    }
   ],
   "source": [
    "#RNA+DNA\n",
    "aptabase_ipk = aptabase_ipk.dropna()\n",
    "ipknotv1_pred = ''.join(ipknotv1_preds)\n",
    "ref2d = ''.join(list(aptabase_ipk['2D']))\n",
    "#\n",
    "Full_Benchmark_2Dv2(ipknotv1_pred, ref2d)"
   ]
  },
  {
   "cell_type": "code",
   "execution_count": 106,
   "metadata": {},
   "outputs": [],
   "source": [
    "#other settings: all default \n",
    "def ipknoter_v2(seq):\n",
    "\n",
    "    driver = webdriver.Chrome()\n",
    "\n",
    "\n",
    "    s = seq.replace('T', 'U')\n",
    "\n",
    "    # Open web-server\n",
    "    driver.get('http://ws.sato-lab.org/rtips/ipknot++/')  # Replace with your target URL\n",
    "    \n",
    "    # type sequence\n",
    "    input_seq = driver.find_element(By.NAME, \"seq\")\n",
    "    input_seq.send_keys(s)\n",
    "\n",
    "    #settings\n",
    "    # select_level = driver.find_element(By.NAME, 'level')\n",
    "    # select_level.selectByValue('3')\n",
    "\n",
    "    # select_engine = driver.find_element(By.NAME, 'model')\n",
    "    # select_engine.select_by_value('NUPACK')\n",
    "\n",
    "    #select_level3 = driver.find_element(By.XPATH, '/html/body/div/form/ul/li[1]/select/option[2]')\n",
    "    #select_level3.click()\n",
    "\n",
    "    #select_nupack = driver.find_element(By.XPATH, '/html/body/div/form/ul/li[2]/select/option[6]')\n",
    "    #select_nupack.click()\n",
    "\n",
    "    #click pred button\n",
    "    predbutton = driver.find_element(By.XPATH, \"/html/body/div/form/p[3]/input[1]\")\n",
    "    predbutton.click()\n",
    "\n",
    "    # Wait for the page to load \n",
    "    time.sleep(5)\n",
    "\n",
    "    \n",
    "    # Get the resulting HTML\n",
    "    result_html = driver.page_source\n",
    "    driver.quit()\n",
    "\n",
    "   \n",
    "    \n",
    "    #we need text from xpath /html/body/div/div[2]/pre[3]\n",
    "    # Создаём объект BeautifulSoup\n",
    "    soup = BeautifulSoup(result_html, 'html.parser')\n",
    "\n",
    "    # CSS-селектор, соответствующий вашему XPath\n",
    "    css_selector = 'html body div#container div#vienna'\n",
    "\n",
    "    # Находим элемент\n",
    "    element = soup.select_one(css_selector)\n",
    "    text = element.get_text()\n",
    "    \n",
    "\n",
    "    ans = ''\n",
    "    for l in text:\n",
    "        if l in ('(', ')', '[', ']', '.'):\n",
    "            ans += l\n",
    "    return ans\n",
    "    #return text.split()"
   ]
  },
  {
   "cell_type": "code",
   "execution_count": null,
   "metadata": {},
   "outputs": [],
   "source": [
    "seqs = list(aptabase['Sequence'])\n",
    "ipknotv2_preds = []\n",
    "for seq in seqs:\n",
    "    ipknotv2_preds.append(ipknoter_v2(seq))\n",
    "    print(len(ipknotv2_preds), '-', end='', sep='')"
   ]
  },
  {
   "cell_type": "code",
   "execution_count": 116,
   "metadata": {},
   "outputs": [
    {
     "data": {
      "text/plain": [
       "188"
      ]
     },
     "execution_count": 116,
     "metadata": {},
     "output_type": "execute_result"
    }
   ],
   "source": [
    "len(ipknotv2_preds)"
   ]
  },
  {
   "cell_type": "code",
   "execution_count": null,
   "metadata": {},
   "outputs": [],
   "source": [
    "for seq in seqs[188:]:\n",
    "    ipknotv2_preds.append(ipknoter_v2(seq))\n",
    "    print(len(ipknotv2_preds), '-', end='', sep='')"
   ]
  },
  {
   "cell_type": "code",
   "execution_count": 118,
   "metadata": {},
   "outputs": [],
   "source": [
    "aptabase['ipknot'] = ipknotv2_preds"
   ]
  },
  {
   "cell_type": "code",
   "execution_count": 120,
   "metadata": {},
   "outputs": [
    {
     "name": "stdout",
     "output_type": "stream",
     "text": [
      "Taminoto accuracy =  0.726\n",
      "Precision = 0.776\n",
      "Recall = 0.72\n",
      "F1-score = 0.747\n"
     ]
    }
   ],
   "source": [
    "#RNA+DNA\n",
    "\n",
    "ipknotv2_pred = ''.join(ipknotv2_preds)\n",
    "ref2d = ''.join(list(aptabase['2D']))\n",
    "#\n",
    "Full_Benchmark_2Dv2(ipknotv2_pred, ref2d)"
   ]
  },
  {
   "cell_type": "code",
   "execution_count": 122,
   "metadata": {},
   "outputs": [
    {
     "name": "stdout",
     "output_type": "stream",
     "text": [
      "Taminoto accuracy =  0.728\n",
      "Precision = 0.788\n",
      "Recall = 0.725\n",
      "F1-score = 0.755\n"
     ]
    }
   ],
   "source": [
    "#RNA\n",
    "aptabase_rna = aptabase[aptabase['NAtype'] == 'RNA']\n",
    "ipknotv2_pred_rna = ''.join(list(aptabase_rna['ipknot']))\n",
    "ref2d_rna = ''.join(list(aptabase_rna['2D']))\n",
    "Full_Benchmark_2Dv2(ipknotv2_pred_rna, ref2d_rna)"
   ]
  },
  {
   "cell_type": "code",
   "execution_count": 123,
   "metadata": {},
   "outputs": [
    {
     "name": "stdout",
     "output_type": "stream",
     "text": [
      "Taminoto accuracy =  0.7\n",
      "Precision = 0.631\n",
      "Recall = 0.639\n",
      "F1-score = 0.635\n"
     ]
    }
   ],
   "source": [
    "#DNA\n",
    "aptabase_dna = aptabase[aptabase['NAtype'] == 'DNA']\n",
    "ipknotv2_pred_dna = ''.join(list(aptabase_dna['ipknot']))\n",
    "ref2d_dna = ''.join(list(aptabase_dna['2D']))\n",
    "Full_Benchmark_2Dv2(ipknotv2_pred_dna, ref2d_dna)"
   ]
  },
  {
   "cell_type": "code",
   "execution_count": 125,
   "metadata": {},
   "outputs": [],
   "source": [
    "aptabase.to_csv('rnafold_ipknot.csv')"
   ]
  },
  {
   "cell_type": "code",
   "execution_count": null,
   "metadata": {},
   "outputs": [
    {
     "name": "stdout",
     "output_type": "stream",
     "text": [
      "Taminoto accuracy =  0.756\n",
      "Precision = 0.776\n",
      "Recall = 0.719\n",
      "F1-score = 0.747\n"
     ]
    }
   ],
   "source": [
    "#standalone version\n",
    "!ipknot --input data.fasta > ipknot.fasta\n",
    "new_ipknot = fastaparser('ipknot.fasta')\n",
    "ipknotstandalone_pred = ''.join(new_ipknot)\n",
    "ref2d = ''.join(list(aptabase['2D']))\n",
    "Full_Benchmark_2Dv2(ipknotstandalone_pred, ref2d)\n",
    "#a bit worse than web-server, but still"
   ]
  },
  {
   "cell_type": "markdown",
   "metadata": {},
   "source": [
    "Trying other parameters like -i (allow isolated pairs) or -r 3 (increase number of interative refinment procedures) only made performance worse"
   ]
  }
 ],
 "metadata": {
  "kernelspec": {
   "display_name": "aptabench_1",
   "language": "python",
   "name": "python3"
  },
  "language_info": {
   "codemirror_mode": {
    "name": "ipython",
    "version": 3
   },
   "file_extension": ".py",
   "mimetype": "text/x-python",
   "name": "python",
   "nbconvert_exporter": "python",
   "pygments_lexer": "ipython3",
   "version": "3.12.5"
  }
 },
 "nbformat": 4,
 "nbformat_minor": 2
}
