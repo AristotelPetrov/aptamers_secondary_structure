{
 "cells": [
  {
   "cell_type": "code",
   "execution_count": 1,
   "metadata": {},
   "outputs": [],
   "source": [
    "import pandas as pd\n",
    "\n",
    "import time\n",
    "from selenium import webdriver\n",
    "from selenium.webdriver.common.by import By\n",
    "\n",
    "from lxml import etree\n",
    "from bs4 import BeautifulSoup\n",
    "\n",
    "\n",
    "import subprocess"
   ]
  },
  {
   "cell_type": "code",
   "execution_count": 6,
   "metadata": {},
   "outputs": [],
   "source": [
    "def find_basepairs(s):\n",
    "    stack = []\n",
    "    result = []\n",
    "\n",
    "    for index, char in enumerate(s):\n",
    "        if char == '(':\n",
    "            stack.append(index)\n",
    "        elif char == ')':\n",
    "            # Если нашли закрывающую скобку, сопоставляем с последней открывающей\n",
    "            if stack:\n",
    "                open_index = stack.pop()\n",
    "                result.append((open_index, index))\n",
    "\n",
    "    return sorted(result)\n",
    "\n",
    "def find_knotpairs(s):\n",
    "    stack = []\n",
    "    #result = {}\n",
    "    result = []\n",
    "\n",
    "    for index, char in enumerate(s):\n",
    "        if char == '[':\n",
    "            # Запоминаем индекс открывающей скобки\n",
    "            stack.append(index)\n",
    "        elif char == ']':\n",
    "            # Если нашли закрывающую скобку, сопоставляем с последней открывающей\n",
    "            if stack:\n",
    "                open_index = stack.pop()\n",
    "                #result[open_index] = index\n",
    "                result.append((open_index, index))\n",
    "\n",
    "    return sorted(result)\n",
    "\n",
    "def find_otherpairs(s):\n",
    "    stack = []\n",
    "    #result = {}\n",
    "    result = []\n",
    "\n",
    "    for index, char in enumerate(s):\n",
    "        if char == '{':\n",
    "            # Запоминаем индекс открывающей скобки\n",
    "            stack.append(index)\n",
    "        elif char == '}':\n",
    "            # Если нашли закрывающую скобку, сопоставляем с последней открывающей\n",
    "            if stack:\n",
    "                open_index = stack.pop()\n",
    "                #result[open_index] = index\n",
    "                result.append((open_index, index))\n",
    "\n",
    "    return sorted(result)\n",
    "\n",
    "def find_pairs(s):\n",
    "    basepairs = find_basepairs(s)\n",
    "    knotpairs = find_knotpairs(s)\n",
    "    otherpairs = find_otherpairs(s)\n",
    "    pairs = basepairs + knotpairs + otherpairs\n",
    "    return sorted(pairs)\n",
    "\n",
    "\n",
    "\n",
    "# def possible_pairs(s):\n",
    "\n",
    "#     l = len(s)\n",
    "#     pairs = []\n",
    "#     for i in range(l):\n",
    "#         for j in range(i+1,l):\n",
    "#             pair = (i, j)\n",
    "#             pairs.append(pair)\n",
    "\n",
    "#     return pairs\n",
    "\n",
    "#faster benchmark which do not calculate accuracy and TN\n",
    "def Full_Benchmark_2Dv2(pred, ref, v=True):\n",
    "    \n",
    "    #Taminoto accuracy, adequate in case of g-quadruplexes predicted as '+' but not '[' and ']'\n",
    "    tcounter = 0\n",
    "    for i in range(len(ref)):\n",
    "        if ref[i] == pred[i]:\n",
    "            tcounter += 1\n",
    "\n",
    "        elif (ref[i] != '.') and pred[i] == '+':\n",
    "            tcounter += 1\n",
    "    taminoto = tcounter/len(ref)\n",
    "\n",
    "\n",
    "    #Binary classification metrics for all pairs\n",
    "    pred_pairs = find_pairs(pred)\n",
    "    ref_pairs = find_pairs(ref)\n",
    "    # poss_pairs = possible_pairs(ref)\n",
    "    \n",
    "    # ref_notpairs = [x for x in poss_pairs if x not in ref_pairs] \n",
    "    # pred_notpairs = [x for x in poss_pairs if x not in pred_pairs]\n",
    "    \n",
    "\n",
    "    TP = len(set(pred_pairs).intersection(ref_pairs))\n",
    "    FP = len(pred_pairs)-TP\n",
    "    # TN = len(set(pred_notpairs).intersection(ref_notpairs)) \n",
    "    # FN = len(pred_notpairs)-TN\n",
    "    FN = len(ref_pairs) -TP\n",
    "\n",
    "    if TP == 0:\n",
    "        TP = 0.0001\n",
    "\n",
    "    if FP == 0:\n",
    "        FP = 0.0001\n",
    "\n",
    "    # if TN == 0:\n",
    "    #     TN = 0.0001\n",
    "\n",
    "    if FN == 0:\n",
    "        FN = 0.0001\n",
    "    \n",
    "    # print(TP, TN, FP, FN, TP+FP+TN+FN)\n",
    "    # print(len(pred_pairs), len(pred_notpairs), len(ref_pairs), len(ref_notpairs), len(poss_pairs))\n",
    "\n",
    "    # Accuracy = (TP+TN)/(TP+TN+FP+FN)\n",
    "    Precision = TP/(TP+FP)\n",
    "    Recall = TP/(TP+FN)\n",
    "    F1_score = (2*Precision*Recall)/(Precision+Recall)\n",
    "\n",
    "    \n",
    "    if v:\n",
    "        print('Taminoto accuracy = ', round(taminoto, 3))\n",
    "        # print('Accuracy =', round(Accuracy, 3))\n",
    "        print('Precision =', round(Precision, 3))\n",
    "        print('Recall =', round(Recall, 3))\n",
    "        print('F1-score =', round(F1_score, 3))\n",
    "\n",
    "    else:\n",
    "        return taminoto, Precision, Recall, F1_score\n",
    "\n",
    "#Taminoto accuracy, adequate in case of g-quadruplexes predicted as '+' but not '[' and ']'\n",
    "def taminoto(pred, ref):\n",
    "    tcounter = 0\n",
    "    for i in range(len(ref)):\n",
    "        if ref[i] == pred[i]:\n",
    "            tcounter += 1\n",
    "\n",
    "        elif (ref[i] != '.') and pred[i] == '+':\n",
    "            tcounter += 1  \n",
    "\n",
    "    return tcounter/len(ref)\n",
    "\n",
    "\n",
    "def taminoto_accurate_percent(preds, refs, cutoff=0.85, v=True):\n",
    "    \n",
    "    acc_list = []\n",
    "    acc = 0\n",
    "    acc_counter = 0\n",
    "    for i in range(len(preds)):\n",
    "        acc = taminoto(preds[i], refs[i])\n",
    "        if acc >= cutoff:\n",
    "            acc_counter += 1\n",
    "        acc_list.append(acc)\n",
    "\n",
    "    if v:\n",
    "        print(f'% of Accurate structures (taminoto acc. >= {cutoff}) =', round(100*acc_counter/len(preds), 2))\n",
    "\n",
    "    else:\n",
    "        return acc_counter/len(preds), acc_list"
   ]
  },
  {
   "cell_type": "code",
   "execution_count": 2,
   "metadata": {},
   "outputs": [],
   "source": [
    "def redfold_web(st):\n",
    "\n",
    "    s = st.replace('t', 'u')\n",
    "    s = s.replace('T', 'U')\n",
    "\n",
    "    driver = webdriver.Chrome()\n",
    "    # Open web-server\n",
    "    driver.get('https://redfold.ee.ncyu.edu.tw/redfold/')  # Replace with your target URL\n",
    "\n",
    "    # type sequence\n",
    "    input_seq = driver.find_element(By.ID, \"Text1\")\n",
    "    input_seq.send_keys(s)\n",
    "\n",
    "    submitbutton = driver.find_element(By.NAME, 'Submit')\n",
    "    submitbutton.click()\n",
    "\n",
    "    time.sleep(2)\n",
    "    result_html = driver.page_source\n",
    "    driver.quit()\n",
    "    \n",
    "    \n",
    "\n",
    "    soup = BeautifulSoup(result_html, 'html.parser')\n",
    "    # Находим элемент <pre> по классу\n",
    "    pre_element = soup.find('font')\n",
    "    text = pre_element.get_text()\n",
    "    text = text.split()\n",
    "\n",
    "    # Извлекаем текст из элемента\n",
    "    return text[4]\n",
    "\n",
    "#redfold_web('aaaaaaaaaaaaatttttttttttt')"
   ]
  },
  {
   "cell_type": "code",
   "execution_count": 3,
   "metadata": {},
   "outputs": [
    {
     "name": "stdout",
     "output_type": "stream",
     "text": [
      "1-2-3-4-5-6-7-8-9-10-11-12-13-14-15-16-17-18-19-20-21-22-23-24-25-26-27-28-29-30-31-32-33-34-35-36-37-38-39-40-41-42-43-44-45-46-47-48-49-50-51-52-53-54-55-56-57-58-59-60-61-62-63-64-65-66-67-68-69-70-71-72-73-74-75-76-77-78-79-80-81-82-83-84-85-86-87-88-89-90-91-92-93-94-95-96-97-98-99-100-101-102-103-104-105-106-107-108-109-110-111-112-113-114-115-116-117-118-119-120-121-122-123-124-125-126-127-128-129-130-131-132-133-134-135-136-137-138-139-140-141-142-143-144-145-146-147-148-149-150-151-152-153-154-155-156-157-158-159-160-161-162-163-164-165-166-167-168-169-170-171-172-173-174-175-176-177-178-179-180-181-182-183-184-185-186-187-188-189-190-191-192-193-194-195-196-197-198-199-200-201-202-203-204-205-206-207-208-209-210-211-212-213-214-215-216-217-218-219-220-221-222-223-224-225-226-227-228-229-230-231-232-233-234-235-236-237-238-239-240-241-242-243-244-245-246-247-248-249-250-251-252-253-254-255-256-257-258-259-260-261-262-263-264-265-266-267-268-269-270-271-272-273-274-275-276-277-278-279-280-281-282-283-284-285-286-287-288-289-290-291-292-293-294-295-296-297-298-299-300-301-302-303-304-305-306-307-308-309-310-311-312-313-314-315-316-317-318-319-320-321-322-323-324-325-326-327-328-329-330-331-332-333-334-335-336-337-338-339-340-341-342-343-344-345-346-347-348-349-350-351-352-353-354-"
     ]
    }
   ],
   "source": [
    "aptabase = pd.read_csv('data.csv')\n",
    "seqs = list(aptabase['Sequence'])\n",
    "preds = []\n",
    "for s in seqs:\n",
    "    preds.append(redfold_web(s))\n",
    "    print(len(preds), end='-')"
   ]
  },
  {
   "cell_type": "code",
   "execution_count": 4,
   "metadata": {},
   "outputs": [
    {
     "data": {
      "text/plain": [
       "354"
      ]
     },
     "execution_count": 4,
     "metadata": {},
     "output_type": "execute_result"
    }
   ],
   "source": [
    "len(preds)"
   ]
  },
  {
   "cell_type": "code",
   "execution_count": 5,
   "metadata": {},
   "outputs": [],
   "source": [
    "db = aptabase\n",
    "db['REDfold'] = pd.Series(preds)\n",
    "rnadb = db[db['NAtype'] == 'RNA']\n",
    "dnadb = db[db['NAtype'] == 'DNA']"
   ]
  },
  {
   "cell_type": "code",
   "execution_count": 7,
   "metadata": {},
   "outputs": [
    {
     "name": "stdout",
     "output_type": "stream",
     "text": [
      "Taminoto accuracy =  0.604\n",
      "Precision = 0.718\n",
      "Recall = 0.341\n",
      "F1-score = 0.462\n"
     ]
    }
   ],
   "source": [
    "#RNA+DNA\n",
    "pred = ''.join(list(db['REDfold']))\n",
    "ref2d = ''.join(list(db['2D']))\n",
    "Full_Benchmark_2Dv2(pred, ref2d)"
   ]
  },
  {
   "cell_type": "code",
   "execution_count": 8,
   "metadata": {},
   "outputs": [
    {
     "name": "stdout",
     "output_type": "stream",
     "text": [
      "Taminoto accuracy =  0.609\n",
      "Precision = 0.721\n",
      "Recall = 0.359\n",
      "F1-score = 0.479\n"
     ]
    }
   ],
   "source": [
    "#RNA\n",
    "pred = ''.join(list(rnadb['REDfold']))\n",
    "ref2d = ''.join(list(rnadb['2D']))\n",
    "Full_Benchmark_2Dv2(pred, ref2d)"
   ]
  },
  {
   "cell_type": "code",
   "execution_count": 9,
   "metadata": {},
   "outputs": [
    {
     "name": "stdout",
     "output_type": "stream",
     "text": [
      "Taminoto accuracy =  0.542\n",
      "Precision = 0.606\n",
      "Recall = 0.085\n",
      "F1-score = 0.149\n"
     ]
    }
   ],
   "source": [
    "#DNA\n",
    "pred = ''.join(list(dnadb['REDfold']))\n",
    "ref2d = ''.join(list(dnadb['2D']))\n",
    "Full_Benchmark_2Dv2(pred, ref2d)"
   ]
  }
 ],
 "metadata": {
  "kernelspec": {
   "display_name": "aptabench_1",
   "language": "python",
   "name": "python3"
  },
  "language_info": {
   "codemirror_mode": {
    "name": "ipython",
    "version": 3
   },
   "file_extension": ".py",
   "mimetype": "text/x-python",
   "name": "python",
   "nbconvert_exporter": "python",
   "pygments_lexer": "ipython3",
   "version": "3.12.5"
  }
 },
 "nbformat": 4,
 "nbformat_minor": 2
}
